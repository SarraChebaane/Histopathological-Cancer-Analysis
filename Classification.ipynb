{
  "nbformat": 4,
  "nbformat_minor": 0,
  "metadata": {
    "colab": {
      "provenance": []
    },
    "kernelspec": {
      "name": "python3",
      "display_name": "Python 3"
    },
    "language_info": {
      "name": "python"
    }
  },
  "cells": [
    {
      "cell_type": "code",
      "execution_count": null,
      "metadata": {
        "id": "u1g16uMnlNYt",
        "colab": {
          "base_uri": "https://localhost:8080/"
        },
        "outputId": "8f845f2e-cb77-4afd-f08b-dc288386b735"
      },
      "outputs": [
        {
          "output_type": "stream",
          "name": "stdout",
          "text": [
            "Mounted at /content/drive\n"
          ]
        }
      ],
      "source": [
        "from google.colab import drive\n",
        "drive.mount('/content/drive')"
      ]
    },
    {
      "cell_type": "code",
      "source": [
        "import os\n",
        "from PIL import Image\n",
        "import numpy as np\n",
        "import matplotlib.pyplot as plt\n",
        "import cv2\n",
        "import tensorflow as tf\n",
        "from tensorflow.keras.layers import Dense, Conv2D, Flatten, BatchNormalization\n",
        "from tensorflow.keras.layers import Conv2D, Conv2DTranspose, Flatten, Dense, BatchNormalization, LeakyReLU, Dropout, Reshape,UpSampling2D,Input\n",
        "from tensorflow.keras.models import Sequential,Model\n",
        "import matplotlib.pyplot as plt\n",
        "from tensorflow.keras.optimizers import Adam\n",
        "from tensorflow.keras.losses import BinaryCrossentropy\n",
        "import datetime\n",
        "from tensorflow.keras import callbacks,layers\n",
        "from tensorflow.keras.callbacks import TensorBoard\n",
        "from tensorflow.keras.callbacks import ReduceLROnPlateau\n",
        "from tensorflow.keras.optimizers.schedules import ExponentialDecay"
      ],
      "metadata": {
        "id": "ySfZzauQlP21"
      },
      "execution_count": null,
      "outputs": []
    },
    {
      "cell_type": "code",
      "source": [
        "from keras.preprocessing.image import ImageDataGenerator\n",
        "\n",
        "# Rescale pixel values and set the target size for resizing\n",
        "datagen = ImageDataGenerator(validation_split=0.2, rescale=1./255)\n",
        "\n",
        "batch_size = 32\n",
        "base_path = \"/content/drive/MyDrive/Cancer_Dataset/lung_colon_image_set\"\n",
        "\n",
        "target_size = (256, 256)  # Assuming you want to resize to this size\n",
        "\n",
        "# Train generator\n",
        "lung_colon_train_generator = datagen.flow_from_directory(\n",
        "    base_path,\n",
        "    target_size=target_size,\n",
        "    batch_size=batch_size,\n",
        "    classes=[\"colon_aca\", \"colon_n\", \"lung_aca\", \"lung_n\", \"lung_scc\"],\n",
        "    shuffle=True,\n",
        "    subset=\"training\"\n",
        ")\n",
        "\n",
        "# Test/Validation generator\n",
        "lung_colon_test_generator = datagen.flow_from_directory(\n",
        "    base_path,\n",
        "    target_size=target_size,\n",
        "    batch_size=batch_size,\n",
        "    classes=[\"colon_aca\", \"colon_n\", \"lung_aca\", \"lung_n\", \"lung_scc\"],\n",
        "    shuffle=True,\n",
        "    subset=\"validation\"\n",
        ")\n"
      ],
      "metadata": {
        "id": "Huhc6rV_lUJP",
        "colab": {
          "base_uri": "https://localhost:8080/"
        },
        "outputId": "b1f41d65-3c54-4b80-d021-c781e07dfd1e"
      },
      "execution_count": null,
      "outputs": [
        {
          "output_type": "stream",
          "name": "stdout",
          "text": [
            "Found 17899 images belonging to 5 classes.\n",
            "Found 4474 images belonging to 5 classes.\n"
          ]
        }
      ]
    },
    {
      "cell_type": "code",
      "source": [
        "def build_encoder(img_shape,latent_dim):\n",
        "        init = tf.keras.initializers.RandomNormal(mean=0.0, stddev=0.02)\n",
        "        model = Sequential()\n",
        "\n",
        "        model.add(layers.Conv2D(32, kernel_size=3, strides=2, input_shape=img_shape, padding='same', kernel_initializer=init))\n",
        "        model.add(layers.LeakyReLU(0.2))\n",
        "        model.add(layers.BatchNormalization(momentum=0.8))\n",
        "\n",
        "        for filters in [64, 128]:\n",
        "            model.add(layers.Conv2D(filters, kernel_size=3, strides=2, padding='same', kernel_initializer=init))\n",
        "            model.add(layers.LeakyReLU(0.2))\n",
        "            model.add(layers.BatchNormalization(momentum=0.8))\n",
        "\n",
        "        model.add(layers.Flatten())\n",
        "        model.add(layers.Dense(latent_dim, activation='tanh'))\n",
        "        return model"
      ],
      "metadata": {
        "id": "hdeBe1l0l396"
      },
      "execution_count": null,
      "outputs": []
    },
    {
      "cell_type": "code",
      "source": [
        "encoder=build_encoder(img_shape=(256,256,3),latent_dim=100)\n",
        "encoder.load_weights('/content/drive/MyDrive/Cancer_Dataset/encoder_weights_epoch_9.h5')"
      ],
      "metadata": {
        "id": "mxrNPCV9mNw9",
        "colab": {
          "base_uri": "https://localhost:8080/"
        },
        "outputId": "86f4fa42-e106-4ce9-bde7-392a409eef72"
      },
      "execution_count": null,
      "outputs": [
        {
          "output_type": "stream",
          "name": "stderr",
          "text": [
            "/usr/local/lib/python3.10/dist-packages/keras/src/initializers/initializers.py:120: UserWarning: The initializer RandomNormal is unseeded and being called multiple times, which will return identical values each time (even if the initializer is unseeded). Please update your code to provide a seed to the initializer, or avoid using the same initializer instance more than once.\n",
            "  warnings.warn(\n"
          ]
        }
      ]
    },
    {
      "cell_type": "code",
      "source": [
        "# Extract features\n",
        "train_features = encoder.predict(lung_colon_train_generator)"
      ],
      "metadata": {
        "id": "wByC0BosnXWl",
        "colab": {
          "base_uri": "https://localhost:8080/"
        },
        "outputId": "68a0f867-4be1-43e9-fbcd-759c565a2014"
      },
      "execution_count": null,
      "outputs": [
        {
          "output_type": "stream",
          "name": "stdout",
          "text": [
            "560/560 [==============================] - 4943s 9s/step\n"
          ]
        }
      ]
    },
    {
      "cell_type": "code",
      "source": [
        "y_train = []\n",
        "\n",
        "# Loop over each batch from the generator\n",
        "for i in range(len(lung_colon_train_generator)):\n",
        "    _, batch_labels = lung_colon_train_generator[i]\n",
        "    y_train.extend(batch_labels)\n",
        "\n",
        "# Convert the list of arrays to a single numpy array\n",
        "y_train = np.vstack(y_train)\n",
        "\n",
        "print(y_train.shape)  # This will give you a sense of the size and structure of y_train\n"
      ],
      "metadata": {
        "colab": {
          "base_uri": "https://localhost:8080/"
        },
        "id": "UkP8Kh9uTnb-",
        "outputId": "698fdbf7-fbb7-4edc-baea-4c1ef8f0c50d"
      },
      "execution_count": null,
      "outputs": [
        {
          "output_type": "stream",
          "name": "stdout",
          "text": [
            "(17899, 5)\n"
          ]
        }
      ]
    },
    {
      "cell_type": "code",
      "source": [
        "y_train_categorical = np.argmax(y_train, axis=1)"
      ],
      "metadata": {
        "id": "trIUcanRTw12"
      },
      "execution_count": null,
      "outputs": []
    },
    {
      "cell_type": "code",
      "source": [
        "NUM_CLASSES=5\n",
        "# Define the classifier\n",
        "classifier = Sequential([\n",
        "    layers.Input(shape=(train_features.shape[1:])),\n",
        "    layers.Dense(512, activation='relu'),\n",
        "    layers.Dropout(0.5),\n",
        "    layers.Dense(NUM_CLASSES, activation='softmax')  # NUM_CLASSES\n",
        "])\n",
        "\n",
        "# Compile the model\n",
        "classifier.compile(optimizer='adam', loss='categorical_crossentropy', metrics=['accuracy'])"
      ],
      "metadata": {
        "id": "d9f7zablmTBV"
      },
      "execution_count": null,
      "outputs": []
    },
    {
      "cell_type": "code",
      "source": [
        "history = classifier.fit(train_features, y_train, batch_size=32, epochs=100)"
      ],
      "metadata": {
        "colab": {
          "base_uri": "https://localhost:8080/"
        },
        "id": "fd8631HlJfOB",
        "outputId": "896ec0f6-727e-41de-ed17-6d0f29ce0faf"
      },
      "execution_count": null,
      "outputs": [
        {
          "output_type": "stream",
          "name": "stdout",
          "text": [
            "Epoch 1/100\n",
            "560/560 [==============================] - 2s 3ms/step - loss: 1.5779 - accuracy: 0.2241\n",
            "Epoch 2/100\n",
            "560/560 [==============================] - 2s 3ms/step - loss: 1.5779 - accuracy: 0.2284\n",
            "Epoch 3/100\n",
            "560/560 [==============================] - 2s 3ms/step - loss: 1.5779 - accuracy: 0.2290\n",
            "Epoch 4/100\n",
            "560/560 [==============================] - 2s 3ms/step - loss: 1.5777 - accuracy: 0.2258\n",
            "Epoch 5/100\n",
            "560/560 [==============================] - 2s 3ms/step - loss: 1.5774 - accuracy: 0.2258\n",
            "Epoch 6/100\n",
            "560/560 [==============================] - 2s 4ms/step - loss: 1.5774 - accuracy: 0.2292\n",
            "Epoch 7/100\n",
            "560/560 [==============================] - 2s 4ms/step - loss: 1.5770 - accuracy: 0.2282\n",
            "Epoch 8/100\n",
            "560/560 [==============================] - 2s 3ms/step - loss: 1.5771 - accuracy: 0.2300\n",
            "Epoch 9/100\n",
            "560/560 [==============================] - 2s 3ms/step - loss: 1.5768 - accuracy: 0.2283\n",
            "Epoch 10/100\n",
            "560/560 [==============================] - 2s 3ms/step - loss: 1.5766 - accuracy: 0.2281\n",
            "Epoch 11/100\n",
            "560/560 [==============================] - 2s 3ms/step - loss: 1.5765 - accuracy: 0.2297\n",
            "Epoch 12/100\n",
            "560/560 [==============================] - 2s 3ms/step - loss: 1.5763 - accuracy: 0.2300\n",
            "Epoch 13/100\n",
            "560/560 [==============================] - 3s 5ms/step - loss: 1.5764 - accuracy: 0.2302\n",
            "Epoch 14/100\n",
            "560/560 [==============================] - 3s 5ms/step - loss: 1.5760 - accuracy: 0.2324\n",
            "Epoch 15/100\n",
            "560/560 [==============================] - 2s 3ms/step - loss: 1.5759 - accuracy: 0.2329\n",
            "Epoch 16/100\n",
            "560/560 [==============================] - 2s 3ms/step - loss: 1.5760 - accuracy: 0.2280\n",
            "Epoch 17/100\n",
            "560/560 [==============================] - 2s 3ms/step - loss: 1.5757 - accuracy: 0.2304\n",
            "Epoch 18/100\n",
            "560/560 [==============================] - 2s 3ms/step - loss: 1.5761 - accuracy: 0.2339\n",
            "Epoch 19/100\n",
            "560/560 [==============================] - 2s 3ms/step - loss: 1.5747 - accuracy: 0.2388\n",
            "Epoch 20/100\n",
            "560/560 [==============================] - 3s 5ms/step - loss: 1.5754 - accuracy: 0.2359\n",
            "Epoch 21/100\n",
            "560/560 [==============================] - 3s 5ms/step - loss: 1.5746 - accuracy: 0.2343\n",
            "Epoch 22/100\n",
            "560/560 [==============================] - 2s 3ms/step - loss: 1.5749 - accuracy: 0.2378\n",
            "Epoch 23/100\n",
            "560/560 [==============================] - 2s 3ms/step - loss: 1.5736 - accuracy: 0.2358\n",
            "Epoch 24/100\n",
            "560/560 [==============================] - 2s 3ms/step - loss: 1.5745 - accuracy: 0.2346\n",
            "Epoch 25/100\n",
            "560/560 [==============================] - 2s 3ms/step - loss: 1.5740 - accuracy: 0.2320\n",
            "Epoch 26/100\n",
            "560/560 [==============================] - 2s 4ms/step - loss: 1.5735 - accuracy: 0.2344\n",
            "Epoch 27/100\n",
            "560/560 [==============================] - 3s 5ms/step - loss: 1.5728 - accuracy: 0.2385\n",
            "Epoch 28/100\n",
            "560/560 [==============================] - 2s 4ms/step - loss: 1.5729 - accuracy: 0.2400\n",
            "Epoch 29/100\n",
            "560/560 [==============================] - 2s 3ms/step - loss: 1.5722 - accuracy: 0.2387\n",
            "Epoch 30/100\n",
            "560/560 [==============================] - 2s 3ms/step - loss: 1.5708 - accuracy: 0.2439\n",
            "Epoch 31/100\n",
            "560/560 [==============================] - 2s 3ms/step - loss: 1.5717 - accuracy: 0.2403\n",
            "Epoch 32/100\n",
            "560/560 [==============================] - 2s 3ms/step - loss: 1.5715 - accuracy: 0.2378\n",
            "Epoch 33/100\n",
            "560/560 [==============================] - 2s 3ms/step - loss: 1.5724 - accuracy: 0.2343\n",
            "Epoch 34/100\n",
            "560/560 [==============================] - 3s 5ms/step - loss: 1.5710 - accuracy: 0.2416\n",
            "Epoch 35/100\n",
            "560/560 [==============================] - 2s 4ms/step - loss: 1.5708 - accuracy: 0.2401\n",
            "Epoch 36/100\n",
            "560/560 [==============================] - 2s 3ms/step - loss: 1.5720 - accuracy: 0.2339\n",
            "Epoch 37/100\n",
            "560/560 [==============================] - 2s 3ms/step - loss: 1.5711 - accuracy: 0.2352\n",
            "Epoch 38/100\n",
            "560/560 [==============================] - 2s 3ms/step - loss: 1.5711 - accuracy: 0.2384\n",
            "Epoch 39/100\n",
            "560/560 [==============================] - 2s 3ms/step - loss: 1.5701 - accuracy: 0.2408\n",
            "Epoch 40/100\n",
            "560/560 [==============================] - 2s 3ms/step - loss: 1.5694 - accuracy: 0.2361\n",
            "Epoch 41/100\n",
            "560/560 [==============================] - 2s 4ms/step - loss: 1.5687 - accuracy: 0.2401\n",
            "Epoch 42/100\n",
            "560/560 [==============================] - 3s 5ms/step - loss: 1.5689 - accuracy: 0.2444\n",
            "Epoch 43/100\n",
            "560/560 [==============================] - 2s 3ms/step - loss: 1.5706 - accuracy: 0.2431\n",
            "Epoch 44/100\n",
            "560/560 [==============================] - 2s 3ms/step - loss: 1.5673 - accuracy: 0.2401\n",
            "Epoch 45/100\n",
            "560/560 [==============================] - 2s 3ms/step - loss: 1.5680 - accuracy: 0.2397\n",
            "Epoch 46/100\n",
            "560/560 [==============================] - 2s 3ms/step - loss: 1.5684 - accuracy: 0.2414\n",
            "Epoch 47/100\n",
            "560/560 [==============================] - 2s 3ms/step - loss: 1.5692 - accuracy: 0.2406\n",
            "Epoch 48/100\n",
            "560/560 [==============================] - 2s 3ms/step - loss: 1.5686 - accuracy: 0.2419\n",
            "Epoch 49/100\n",
            "560/560 [==============================] - 3s 5ms/step - loss: 1.5673 - accuracy: 0.2420\n",
            "Epoch 50/100\n",
            "560/560 [==============================] - 2s 4ms/step - loss: 1.5668 - accuracy: 0.2440\n",
            "Epoch 51/100\n",
            "560/560 [==============================] - 2s 3ms/step - loss: 1.5674 - accuracy: 0.2391\n",
            "Epoch 52/100\n",
            "560/560 [==============================] - 2s 3ms/step - loss: 1.5672 - accuracy: 0.2432\n",
            "Epoch 53/100\n",
            "560/560 [==============================] - 2s 3ms/step - loss: 1.5653 - accuracy: 0.2435\n",
            "Epoch 54/100\n",
            "560/560 [==============================] - 2s 3ms/step - loss: 1.5657 - accuracy: 0.2450\n",
            "Epoch 55/100\n",
            "560/560 [==============================] - 2s 3ms/step - loss: 1.5675 - accuracy: 0.2400\n",
            "Epoch 56/100\n",
            "560/560 [==============================] - 2s 4ms/step - loss: 1.5660 - accuracy: 0.2414\n",
            "Epoch 57/100\n",
            "560/560 [==============================] - 3s 5ms/step - loss: 1.5666 - accuracy: 0.2432\n",
            "Epoch 58/100\n",
            "560/560 [==============================] - 2s 4ms/step - loss: 1.5661 - accuracy: 0.2409\n",
            "Epoch 59/100\n",
            "560/560 [==============================] - 2s 3ms/step - loss: 1.5663 - accuracy: 0.2403\n",
            "Epoch 60/100\n",
            "560/560 [==============================] - 2s 3ms/step - loss: 1.5646 - accuracy: 0.2432\n",
            "Epoch 61/100\n",
            "560/560 [==============================] - 2s 3ms/step - loss: 1.5645 - accuracy: 0.2431\n",
            "Epoch 62/100\n",
            "560/560 [==============================] - 2s 3ms/step - loss: 1.5656 - accuracy: 0.2376\n",
            "Epoch 63/100\n",
            "560/560 [==============================] - 2s 3ms/step - loss: 1.5639 - accuracy: 0.2468\n",
            "Epoch 64/100\n",
            "560/560 [==============================] - 2s 4ms/step - loss: 1.5645 - accuracy: 0.2452\n",
            "Epoch 65/100\n",
            "560/560 [==============================] - 3s 5ms/step - loss: 1.5632 - accuracy: 0.2474\n",
            "Epoch 66/100\n",
            "560/560 [==============================] - 2s 3ms/step - loss: 1.5647 - accuracy: 0.2422\n",
            "Epoch 67/100\n",
            "560/560 [==============================] - 2s 3ms/step - loss: 1.5661 - accuracy: 0.2398\n",
            "Epoch 68/100\n",
            "560/560 [==============================] - 2s 3ms/step - loss: 1.5636 - accuracy: 0.2412\n",
            "Epoch 69/100\n",
            "560/560 [==============================] - 2s 3ms/step - loss: 1.5626 - accuracy: 0.2494\n",
            "Epoch 70/100\n",
            "560/560 [==============================] - 2s 3ms/step - loss: 1.5646 - accuracy: 0.2453\n",
            "Epoch 71/100\n",
            "560/560 [==============================] - 2s 3ms/step - loss: 1.5635 - accuracy: 0.2473\n",
            "Epoch 72/100\n",
            "560/560 [==============================] - 3s 5ms/step - loss: 1.5620 - accuracy: 0.2457\n",
            "Epoch 73/100\n",
            "560/560 [==============================] - 2s 4ms/step - loss: 1.5639 - accuracy: 0.2459\n",
            "Epoch 74/100\n",
            "560/560 [==============================] - 2s 3ms/step - loss: 1.5621 - accuracy: 0.2435\n",
            "Epoch 75/100\n",
            "560/560 [==============================] - 2s 3ms/step - loss: 1.5630 - accuracy: 0.2421\n",
            "Epoch 76/100\n",
            "560/560 [==============================] - 2s 3ms/step - loss: 1.5614 - accuracy: 0.2447\n",
            "Epoch 77/100\n",
            "560/560 [==============================] - 2s 3ms/step - loss: 1.5607 - accuracy: 0.2426\n",
            "Epoch 78/100\n",
            "560/560 [==============================] - 2s 3ms/step - loss: 1.5622 - accuracy: 0.2398\n",
            "Epoch 79/100\n",
            "560/560 [==============================] - 2s 4ms/step - loss: 1.5604 - accuracy: 0.2476\n",
            "Epoch 80/100\n",
            "560/560 [==============================] - 3s 5ms/step - loss: 1.5633 - accuracy: 0.2468\n",
            "Epoch 81/100\n",
            "560/560 [==============================] - 2s 4ms/step - loss: 1.5612 - accuracy: 0.2443\n",
            "Epoch 82/100\n",
            "560/560 [==============================] - 2s 3ms/step - loss: 1.5624 - accuracy: 0.2464\n",
            "Epoch 83/100\n",
            "560/560 [==============================] - 2s 3ms/step - loss: 1.5608 - accuracy: 0.2480\n",
            "Epoch 84/100\n",
            "560/560 [==============================] - 2s 3ms/step - loss: 1.5615 - accuracy: 0.2485\n",
            "Epoch 85/100\n",
            "560/560 [==============================] - 2s 3ms/step - loss: 1.5610 - accuracy: 0.2486\n",
            "Epoch 86/100\n",
            "560/560 [==============================] - 2s 3ms/step - loss: 1.5603 - accuracy: 0.2485\n",
            "Epoch 87/100\n",
            "560/560 [==============================] - 2s 4ms/step - loss: 1.5603 - accuracy: 0.2484\n",
            "Epoch 88/100\n",
            "560/560 [==============================] - 3s 5ms/step - loss: 1.5602 - accuracy: 0.2440\n",
            "Epoch 89/100\n",
            "560/560 [==============================] - 2s 3ms/step - loss: 1.5617 - accuracy: 0.2506\n",
            "Epoch 90/100\n",
            "560/560 [==============================] - 2s 3ms/step - loss: 1.5598 - accuracy: 0.2430\n",
            "Epoch 91/100\n",
            "560/560 [==============================] - 2s 3ms/step - loss: 1.5605 - accuracy: 0.2444\n",
            "Epoch 92/100\n",
            "560/560 [==============================] - 2s 3ms/step - loss: 1.5595 - accuracy: 0.2472\n",
            "Epoch 93/100\n",
            "560/560 [==============================] - 2s 3ms/step - loss: 1.5602 - accuracy: 0.2431\n",
            "Epoch 94/100\n",
            "560/560 [==============================] - 2s 3ms/step - loss: 1.5585 - accuracy: 0.2434\n",
            "Epoch 95/100\n",
            "560/560 [==============================] - 3s 5ms/step - loss: 1.5595 - accuracy: 0.2443\n",
            "Epoch 96/100\n",
            "560/560 [==============================] - 3s 5ms/step - loss: 1.5600 - accuracy: 0.2426\n",
            "Epoch 97/100\n",
            "560/560 [==============================] - 3s 5ms/step - loss: 1.5606 - accuracy: 0.2458\n",
            "Epoch 98/100\n",
            "560/560 [==============================] - 2s 4ms/step - loss: 1.5608 - accuracy: 0.2446\n",
            "Epoch 99/100\n",
            "560/560 [==============================] - 2s 3ms/step - loss: 1.5591 - accuracy: 0.2435\n",
            "Epoch 100/100\n",
            "560/560 [==============================] - 2s 3ms/step - loss: 1.5580 - accuracy: 0.2498\n"
          ]
        }
      ]
    },
    {
      "cell_type": "code",
      "source": [
        "import matplotlib.pyplot as plt\n",
        "\n",
        "# Plot training loss\n",
        "plt.plot(history.history['loss'], label='train_loss')\n",
        "plt.title('Model Loss')\n",
        "plt.ylabel('Loss')\n",
        "plt.xlabel('Epoch')\n",
        "plt.legend(loc='upper right')\n",
        "plt.show()\n"
      ],
      "metadata": {
        "colab": {
          "base_uri": "https://localhost:8080/",
          "height": 472
        },
        "id": "Szt6ze_FTpQZ",
        "outputId": "6bf80c9e-71a7-4a53-8551-22d8a688efde"
      },
      "execution_count": null,
      "outputs": [
        {
          "output_type": "display_data",
          "data": {
            "text/plain": [
              "<Figure size 640x480 with 1 Axes>"
            ],
            "image/png": "[encoded data removed]"
          },
          "metadata": {}
        }
      ]
    }
  ]
}